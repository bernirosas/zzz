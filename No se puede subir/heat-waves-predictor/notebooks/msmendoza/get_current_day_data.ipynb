{
 "cells": [
  {
   "cell_type": "code",
   "execution_count": 1,
   "metadata": {},
   "outputs": [],
   "source": [
    "from os import chdir\n",
    "\n",
    "# change directory to the root of the project\n",
    "chdir(\"../\")"
   ]
  },
  {
   "attachments": {},
   "cell_type": "markdown",
   "metadata": {},
   "source": [
    "# Libraries import\n"
   ]
  },
  {
   "cell_type": "code",
   "execution_count": 2,
   "metadata": {},
   "outputs": [],
   "source": [
    "from json import loads\n",
    "\n",
    "from requests import get"
   ]
  },
  {
   "attachments": {},
   "cell_type": "markdown",
   "metadata": {},
   "source": [
    "# Parameters\n"
   ]
  },
  {
   "cell_type": "code",
   "execution_count": 3,
   "metadata": {},
   "outputs": [],
   "source": [
    "INPUT_PATH = \"data/input\"\n",
    "STATION_ID = 330020\n",
    "DATA_API_URL = (\n",
    "    f\"https://climatologia.meteochile.gob.cl/application/productos/emaResumenDiario/{STATION_ID}\"\n",
    ")"
   ]
  },
  {
   "attachments": {},
   "cell_type": "markdown",
   "metadata": {},
   "source": [
    "## Current day\n"
   ]
  },
  {
   "cell_type": "code",
   "execution_count": 9,
   "metadata": {},
   "outputs": [],
   "source": [
    "# get data from the API, parse the response to unicode and then deserialize it\n",
    "res = loads(get(DATA_API_URL).text)"
   ]
  },
  {
   "cell_type": "code",
   "execution_count": 12,
   "metadata": {},
   "outputs": [
    {
     "data": {
      "text/plain": [
       "{'pais': 'Chile',\n",
       " 'organismo': 'Dirección Meteorlógica de Chile',\n",
       " 'fechaCreacion': '04-05-2023 03:50:08',\n",
       " 'timezone': 'UTC',\n",
       " 'producto': 'Resumen diario de la estación',\n",
       " 'status': 'Información recuperada',\n",
       " 'datosEstacion': {'codigoNacional': 330020,\n",
       "  'codigoOMM': '85577',\n",
       "  'codigoOACI': 'SCQN',\n",
       "  'nombreEstacion': 'Quinta Normal, Santiago',\n",
       "  'latitud': '-33.44500',\n",
       "  'longitud': '-70.68278',\n",
       "  'altura': '520.0',\n",
       "  'provincia': 'Santiago ',\n",
       "  'comuna': 'EstaciÃ³n Central ',\n",
       "  'region': 'Metropolitana de Santiago',\n",
       "  'numeroRegion': 13,\n",
       "  'convenio': 0},\n",
       " 'datos': {'valoresMasRecientes': {'codigoNacional': '330020',\n",
       "   'momento': '2023-05-04 03:40:00',\n",
       "   'temperatura': '7.59719',\n",
       "   'puntoDeRocio': '6.85149',\n",
       "   'temperatura02': None,\n",
       "   'temperatura10': None,\n",
       "   'temperatura30': None,\n",
       "   'temperaturaMax15': None,\n",
       "   'temperaturaMin15': None,\n",
       "   'temperaturaMinima12Horas': '4.47449',\n",
       "   'temperaturaMaxima12Horas': '21.2109',\n",
       "   'humedadRelativa': '94.7956',\n",
       "   'presionEstacion': '954.289',\n",
       "   'presionNivelDelMar': '1017.48',\n",
       "   'presionNivelEstandar': '1016.14',\n",
       "   'aguaCaidaDelMinuto': '0',\n",
       "   'aguaCaida6Horas': '0',\n",
       "   'aguaCaida24Horas': '0',\n",
       "   'aguaCaida15Minutos': None,\n",
       "   'radiacionGlobalInst': '0',\n",
       "   'direccionDelViento': '0',\n",
       "   'fuerzaDelViento': '0',\n",
       "   'direccionDelVientoPromedio2Minutos': '0',\n",
       "   'fuerzaDelVientoPromedio2Minutos': '0',\n",
       "   'direccionDelVientoPromedio10Minutos': '359.646',\n",
       "   'fuerzaDelVientoPromedio10Minutos': '0.147317',\n",
       "   'direccionDelViento02MinutosMax': None,\n",
       "   'fuerzaDelViento02MinutosMax': None,\n",
       "   'direccionDelViento10MinutosMax': None,\n",
       "   'fuerzaDelViento10MinutosMax': None,\n",
       "   'direccionDelViento01MinutosMax': '48.42',\n",
       "   'fuerzaDelViento01MinutosMax': '0',\n",
       "   'atraso': 608,\n",
       "   'seguntosToTiempo': '10min 8seg',\n",
       "   'desactualizada': False,\n",
       "   'fueraDeServicio': False},\n",
       "  'vientoMaxino': {'04-05-2023': {'datos': 221,\n",
       "    'maxima': {'direccion': '163.5',\n",
       "     'intensidad': '4.972',\n",
       "     'momento': '2023-05-03 20:51:00'}},\n",
       "   '03-05-2023': {'datos': 1440,\n",
       "    'maxima': {'direccion': '192.5',\n",
       "     'intensidad': '8.17',\n",
       "     'momento': '2023-05-03 15:58:00'}},\n",
       "   '02-05-2023': {'datos': 1329,\n",
       "    'maxima': {'direccion': '172.5',\n",
       "     'intensidad': '7.696',\n",
       "     'momento': '2023-05-02 15:27:00'}}},\n",
       "  'aguaCaidaDiaria': {'03-05-2023': {'valor': 0, 'total': {'datos': 940}},\n",
       "   '02-05-2023': {'valor': 0, 'total': {'datos': 1440}},\n",
       "   '01-05-2023': {'valor': 0, 'total': {'datos': 610}}},\n",
       "  'aguaCaidaDiariaEstacion': {'03-05-2023': '0',\n",
       "   '02-05-2023': '0',\n",
       "   '01-05-2023': '0'},\n",
       "  'aguaCada6HorasEstacion': {'04-05-2023': ['0'],\n",
       "   '03-05-2023': {'18': '0', '12': '0', '6': '0', '0': '0'},\n",
       "   '02-05-2023': {'18': '0', '12': '0', '6': '0'}},\n",
       "  'aguaCada6HorasSumadas': {'04-05-2023': {'6': 0, '0': 0},\n",
       "   '03-05-2023': {'18': 0, '12': 0, '6': 0, '0': 0},\n",
       "   '02-05-2023': {'18': 0, '12': 0, '6': 0}},\n",
       "  'aguaCaidaSumasParciales': {'60': {'valor': 0,\n",
       "    'datos': 50,\n",
       "    'desde': '04-05-2023 02:50',\n",
       "    'hasta': '04-05-2023 03:50'},\n",
       "   '180': {'valor': 0,\n",
       "    'datos': 170,\n",
       "    'desde': '04-05-2023 00:50',\n",
       "    'hasta': '04-05-2023 03:50'},\n",
       "   '360': {'valor': 0,\n",
       "    'datos': 350,\n",
       "    'desde': '03-05-2023 21:50',\n",
       "    'hasta': '04-05-2023 03:50'},\n",
       "   '720': {'valor': 0,\n",
       "    'datos': 710,\n",
       "    'desde': '03-05-2023 15:50',\n",
       "    'hasta': '04-05-2023 03:50'},\n",
       "   '1440': {'valor': 0,\n",
       "    'datos': 1430,\n",
       "    'desde': '03-05-2023 03:50',\n",
       "    'hasta': '04-05-2023 03:50'},\n",
       "   '2160': {'valor': 0,\n",
       "    'datos': 2150,\n",
       "    'desde': '02-05-2023 15:50',\n",
       "    'hasta': '04-05-2023 03:50'}},\n",
       "  'temperaturaExtremas': {'04-05-2023': {'datos': 221,\n",
       "    'maxima': {'valor': '12.8111', 'momento': '2023-05-03 20:01:00'},\n",
       "    'minima': {'valor': '7.2645', 'momento': '2023-05-03 23:33:00'}},\n",
       "   '03-05-2023': {'datos': 1440,\n",
       "    'maxima': {'valor': '21.0832', 'momento': '2023-05-03 14:43:00'},\n",
       "    'minima': {'valor': '3.49195', 'momento': '2023-05-03 07:08:00'}},\n",
       "   '02-05-2023': {'datos': 1329,\n",
       "    'maxima': {'valor': '20.2771', 'momento': '2023-05-02 15:14:00'},\n",
       "    'minima': {'valor': '2.94277', 'momento': '2023-05-02 07:01:00'}}},\n",
       "  'extremas6Horas': {'viento': {'datos': 350,\n",
       "    'maxima': {'direccion': '178.3',\n",
       "     'intensidad': '6.096',\n",
       "     'momento': '2023-05-03 18:22:00'}},\n",
       "   'intervalo': {'desde': '03-05-2023 21:50:08',\n",
       "    'hasta': '04-05-2023 03:50:08'},\n",
       "   'temperatura': {'datos': 350,\n",
       "    'minima': {'valor': '7.2645', 'momento': '2023-05-03 23:33:00'},\n",
       "    'maxima': {'valor': '17.2923', 'momento': '2023-05-03 17:51:00'}},\n",
       "   'humedadRelativa': {'datos': 350,\n",
       "    'minima': {'valor': '43.9102', 'momento': '2023-05-03 17:52:00'}}}}}"
      ]
     },
     "execution_count": 12,
     "metadata": {},
     "output_type": "execute_result"
    }
   ],
   "source": [
    "res"
   ]
  },
  {
   "cell_type": "code",
   "execution_count": null,
   "metadata": {},
   "outputs": [],
   "source": [
    "# TODO: preprocess to get dynamic current day data"
   ]
  }
 ],
 "metadata": {
  "kernelspec": {
   "display_name": ".venv",
   "language": "python",
   "name": "python3"
  },
  "language_info": {
   "codemirror_mode": {
    "name": "ipython",
    "version": 3
   },
   "file_extension": ".py",
   "mimetype": "text/x-python",
   "name": "python",
   "nbconvert_exporter": "python",
   "pygments_lexer": "ipython3",
   "version": "3.11.3"
  },
  "orig_nbformat": 4
 },
 "nbformat": 4,
 "nbformat_minor": 2
}
