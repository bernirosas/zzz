{
 "cells": [
  {
   "cell_type": "code",
   "execution_count": 1,
   "metadata": {},
   "outputs": [],
   "source": [
    "%load_ext autoreload\n",
    "%autoreload 2\n"
   ]
  },
  {
   "cell_type": "code",
   "execution_count": 2,
   "metadata": {},
   "outputs": [],
   "source": [
    "# change directory to the root of the project\n",
    "from os import chdir\n",
    "\n",
    "chdir(\"../..\")"
   ]
  },
  {
   "cell_type": "code",
   "execution_count": 4,
   "metadata": {},
   "outputs": [],
   "source": [
    "import pandas as pd\n",
    "from zipfile import ZipFile\n",
    "from io import BytesIO\n",
    "from requests import get\n",
    "\n",
    "# https://climatologia.meteochile.gob.cl/application/datos/getDatosSaclim/330020_XXXX_PuntoRocio_"
   ]
  },
  {
   "cell_type": "code",
   "execution_count": 15,
   "metadata": {},
   "outputs": [
    {
     "name": "stdout",
     "output_type": "stream",
     "text": [
      "Downloading dew point data for station 330020\n",
      "Uncompressing dew point data for station 330020\n"
     ]
    }
   ],
   "source": [
    "from os import remove\n",
    "\n",
    "\n",
    "def get_dew_point(\n",
    "    input_path: str,\n",
    "    station_id: str,\n",
    ") -> None:\n",
    "    \"\"\"_summary_\n",
    "\n",
    "    Parameters\n",
    "    ----------\n",
    "    input_path : str\n",
    "        _description_\n",
    "    station_id : str\n",
    "        _description_\n",
    "    \"\"\"\n",
    "    # download and uncompress zip file\n",
    "    print(f\"Downloading dew point data for station {station_id}\")\n",
    "    zip_file_url = f\"https://climatologia.meteochile.gob.cl/application/datos/getDatosSaclim/{station_id}_XXXX_PuntoRocio_\"  # noqa: E501\n",
    "    req = get(zip_file_url, stream=True).content\n",
    "\n",
    "    zip_file = ZipFile(BytesIO(req))\n",
    "    zip_info = zip_file.infolist()[0]\n",
    "    zip_info.filename = \"dew_point_history.csv\"\n",
    "\n",
    "    print(f\"Uncompressing dew point data for station {station_id}\")\n",
    "    extract_path = f\"{input_path}/stations/{station_id}\"\n",
    "    zip_file.extract(zip_info, path=extract_path)\n",
    "\n",
    "    # replace ',' with ';' in .csv file to allow correct column separation\n",
    "    history_path = f\"{input_path}/stations/{station_id}/{zip_info.filename}\"\n",
    "\n",
    "    with open(history_path, \"r\") as f:\n",
    "        lines = f.readlines()\n",
    "        lines = map(lambda x: x.replace(\",\", \";\"), lines)\n",
    "\n",
    "    with open(history_path, \"w\") as f:\n",
    "        f.writelines(lines)\n",
    "\n",
    "    dew_point_data = pd.read_csv(f\"{extract_path}/dew_point_history.csv\", sep=\";\")\n",
    "\n",
    "    dew_point_data.drop(columns=[\"CodigoNacional\"], inplace=True)\n",
    "    dew_point_data.rename(\n",
    "        columns={\n",
    "            \"momento\": \"timestamp\",\n",
    "            \"Td_Valor\": \"dew_point_temp\",\n",
    "        },\n",
    "        inplace=True,\n",
    "    )\n",
    "    dew_point_data.set_index(\"timestamp\", inplace=True)\n",
    "\n",
    "    dew_point_data.to_parquet(f\"{extract_path}/dew_point_history.parquet\")\n",
    "    remove(f\"{extract_path}/dew_point_history.csv\")\n",
    "\n",
    "\n",
    "get_dew_point(\n",
    "    \"data/input\",\n",
    "    330020,\n",
    ")"
   ]
  },
  {
   "cell_type": "code",
   "execution_count": 18,
   "metadata": {},
   "outputs": [
    {
     "data": {
      "text/html": [
       "<div>\n",
       "<style scoped>\n",
       "    .dataframe tbody tr th:only-of-type {\n",
       "        vertical-align: middle;\n",
       "    }\n",
       "\n",
       "    .dataframe tbody tr th {\n",
       "        vertical-align: top;\n",
       "    }\n",
       "\n",
       "    .dataframe thead th {\n",
       "        text-align: right;\n",
       "    }\n",
       "</style>\n",
       "<table border=\"1\" class=\"dataframe\">\n",
       "  <thead>\n",
       "    <tr style=\"text-align: right;\">\n",
       "      <th></th>\n",
       "      <th>dew_point_temp</th>\n",
       "    </tr>\n",
       "    <tr>\n",
       "      <th>timestamp</th>\n",
       "      <th></th>\n",
       "    </tr>\n",
       "  </thead>\n",
       "  <tbody>\n",
       "    <tr>\n",
       "      <th>01-03-1967 00:00:00</th>\n",
       "      <td>NaN</td>\n",
       "    </tr>\n",
       "    <tr>\n",
       "      <th>01-03-1967 12:00:00</th>\n",
       "      <td>11.6</td>\n",
       "    </tr>\n",
       "    <tr>\n",
       "      <th>01-03-1967 18:00:00</th>\n",
       "      <td>16.0</td>\n",
       "    </tr>\n",
       "    <tr>\n",
       "      <th>02-03-1967 00:00:00</th>\n",
       "      <td>17.9</td>\n",
       "    </tr>\n",
       "    <tr>\n",
       "      <th>02-03-1967 12:00:00</th>\n",
       "      <td>12.7</td>\n",
       "    </tr>\n",
       "    <tr>\n",
       "      <th>...</th>\n",
       "      <td>...</td>\n",
       "    </tr>\n",
       "    <tr>\n",
       "      <th>05-10-2023 03:00:00</th>\n",
       "      <td>5.8</td>\n",
       "    </tr>\n",
       "    <tr>\n",
       "      <th>05-10-2023 04:00:00</th>\n",
       "      <td>6.2</td>\n",
       "    </tr>\n",
       "    <tr>\n",
       "      <th>05-10-2023 05:00:00</th>\n",
       "      <td>6.1</td>\n",
       "    </tr>\n",
       "    <tr>\n",
       "      <th>05-10-2023 06:00:00</th>\n",
       "      <td>6.0</td>\n",
       "    </tr>\n",
       "    <tr>\n",
       "      <th>05-10-2023 07:00:00</th>\n",
       "      <td>6.1</td>\n",
       "    </tr>\n",
       "  </tbody>\n",
       "</table>\n",
       "<p>175782 rows × 1 columns</p>\n",
       "</div>"
      ],
      "text/plain": [
       "                     dew_point_temp\n",
       "timestamp                          \n",
       "01-03-1967 00:00:00             NaN\n",
       "01-03-1967 12:00:00            11.6\n",
       "01-03-1967 18:00:00            16.0\n",
       "02-03-1967 00:00:00            17.9\n",
       "02-03-1967 12:00:00            12.7\n",
       "...                             ...\n",
       "05-10-2023 03:00:00             5.8\n",
       "05-10-2023 04:00:00             6.2\n",
       "05-10-2023 05:00:00             6.1\n",
       "05-10-2023 06:00:00             6.0\n",
       "05-10-2023 07:00:00             6.1\n",
       "\n",
       "[175782 rows x 1 columns]"
      ]
     },
     "execution_count": 18,
     "metadata": {},
     "output_type": "execute_result"
    }
   ],
   "source": [
    "dew_point_data = pd.read_parquet(\"data/input/stations/330020/dew_point_history.parquet\")\n",
    "dew_point_data"
   ]
  }
 ],
 "metadata": {
  "kernelspec": {
   "display_name": ".venv",
   "language": "python",
   "name": "python3"
  },
  "language_info": {
   "codemirror_mode": {
    "name": "ipython",
    "version": 3
   },
   "file_extension": ".py",
   "mimetype": "text/x-python",
   "name": "python",
   "nbconvert_exporter": "python",
   "pygments_lexer": "ipython3",
   "version": "3.11.2"
  },
  "orig_nbformat": 4
 },
 "nbformat": 4,
 "nbformat_minor": 2
}
