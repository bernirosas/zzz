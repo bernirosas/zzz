{
 "cells": [
  {
   "cell_type": "code",
   "execution_count": 1,
   "metadata": {},
   "outputs": [],
   "source": [
    "from os import chdir\n",
    "\n",
    "# change directory to the root of the project\n",
    "chdir(\"../\")"
   ]
  },
  {
   "cell_type": "markdown",
   "metadata": {},
   "source": [
    "# Libraries import"
   ]
  },
  {
   "cell_type": "code",
   "execution_count": 2,
   "metadata": {},
   "outputs": [],
   "source": [
    "import netCDF4 as nc\n",
    "\n",
    "\n",
    "# images with higher resolution in plots\n",
    "%matplotlib inline\n",
    "%config InlineBackend.figure_format = \"retina\""
   ]
  },
  {
   "attachments": {},
   "cell_type": "markdown",
   "metadata": {},
   "source": [
    "# Parameters"
   ]
  },
  {
   "cell_type": "code",
   "execution_count": 6,
   "metadata": {},
   "outputs": [],
   "source": [
    "# Parameters\n",
    "INPUT_PATH = f\"data/input/netcdf\""
   ]
  },
  {
   "attachments": {},
   "cell_type": "markdown",
   "metadata": {},
   "source": [
    "# Code"
   ]
  },
  {
   "cell_type": "code",
   "execution_count": 9,
   "metadata": {},
   "outputs": [
    {
     "data": {
      "text/plain": [
       "<class 'netCDF4._netCDF4.Dataset'>\n",
       "root group (NETCDF4_CLASSIC data model, file format HDF5):\n",
       "    featureType: timeSeries\n",
       "    source: Daymet Software Version 4.0\n",
       "    Version_software: Daymet Software Version 4.0\n",
       "    Version_data: Daymet Data Version 4.0\n",
       "    citation: 10.3334/ORNLDAAC/2132\n",
       "    Conventions: CF-1.7\n",
       "    title: Daymet: Station-Level Inputs and Model Predicted Values for North America, Version 4\n",
       "    institution: Oak Ridge National Laboratory, Distributed Active Archive Center\n",
       "    references: Thornton, et al.  2020\n",
       "    dimensions(sizes): stns(52), time(365), descriptor_length(255), nv(2)\n",
       "    variables(dimensions): int32 stns(stns), float64 obs(stns, time), float64 pred(stns, time), |S1 station_id(stns, descriptor_length), |S1 station_name(stns, descriptor_length), float64 stnx(stns), float64 stny(stns), float64 stnz(stns), float32 time(time), float32 time_bnds(time, nv), float64 stn_lon(stns), float64 stn_lat(stns)\n",
       "    groups: "
      ]
     },
     "execution_count": 9,
     "metadata": {},
     "output_type": "execute_result"
    }
   ],
   "source": [
    "data = nc.Dataset(f\"{INPUT_PATH}/Daymet_xval_V4R1_2132/data/daymet_v4_stnxval_tmax_hi_2022.nc\")\n",
    "data"
   ]
  },
  {
   "cell_type": "code",
   "execution_count": 17,
   "metadata": {},
   "outputs": [
    {
     "data": {
      "text/plain": [
       "<class 'netCDF4._netCDF4.Variable'>\n",
       "float64 obs(stns, time)\n",
       "    long_name: observed temperature\n",
       "    units: degrees C\n",
       "    _FillValue: -9999.0\n",
       "    coordinates: stn_lat stn_lon stnz station_id\n",
       "unlimited dimensions: stns\n",
       "current shape = (52, 365)\n",
       "filling on"
      ]
     },
     "execution_count": 17,
     "metadata": {},
     "output_type": "execute_result"
    }
   ],
   "source": [
    "# information for a specific variable\n",
    "data[\"obs\"]"
   ]
  },
  {
   "cell_type": "code",
   "execution_count": 14,
   "metadata": {},
   "outputs": [
    {
     "data": {
      "text/plain": [
       "masked_array(\n",
       "  data=[[20.6, 25.0, 25.6, ..., 22.2, 23.3, 24.4],\n",
       "        [23.3, 25.0, 25.0, ..., 25.6, 26.7, 26.1],\n",
       "        [28.9, 28.9, 28.3, ..., 28.3, 27.8, 28.3],\n",
       "        ...,\n",
       "        [26.7, 26.1, 27.2, ..., 26.1, 26.7, --],\n",
       "        [--, --, --, ..., --, --, --],\n",
       "        [25.6, 23.9, 27.2, ..., 26.7, 26.7, 26.1]],\n",
       "  mask=[[False, False, False, ..., False, False, False],\n",
       "        [False, False, False, ..., False, False, False],\n",
       "        [False, False, False, ..., False, False, False],\n",
       "        ...,\n",
       "        [False, False, False, ..., False, False,  True],\n",
       "        [ True,  True,  True, ...,  True,  True,  True],\n",
       "        [False, False, False, ..., False, False, False]],\n",
       "  fill_value=-9999.0)"
      ]
     },
     "execution_count": 14,
     "metadata": {},
     "output_type": "execute_result"
    }
   ],
   "source": [
    "data[\"obs\"][:]"
   ]
  }
 ],
 "metadata": {
  "kernelspec": {
   "display_name": ".venv",
   "language": "python",
   "name": "python3"
  },
  "language_info": {
   "codemirror_mode": {
    "name": "ipython",
    "version": 3
   },
   "file_extension": ".py",
   "mimetype": "text/x-python",
   "name": "python",
   "nbconvert_exporter": "python",
   "pygments_lexer": "ipython3",
   "version": "3.11.3"
  },
  "orig_nbformat": 4
 },
 "nbformat": 4,
 "nbformat_minor": 2
}
