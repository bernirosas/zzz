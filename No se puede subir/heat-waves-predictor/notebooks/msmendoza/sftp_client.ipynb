{
 "cells": [
  {
   "cell_type": "markdown",
   "metadata": {},
   "source": [
    "# SFTP Client"
   ]
  },
  {
   "cell_type": "code",
   "execution_count": 1,
   "metadata": {},
   "outputs": [],
   "source": [
    "%load_ext autoreload\n",
    "%autoreload 2\n"
   ]
  },
  {
   "cell_type": "code",
   "execution_count": 2,
   "metadata": {},
   "outputs": [],
   "source": [
    "from os import chdir\n",
    "\n",
    "# change directory to the root of the project\n",
    "chdir(\"../..\")\n"
   ]
  },
  {
   "cell_type": "code",
   "execution_count": 3,
   "metadata": {},
   "outputs": [],
   "source": [
    "import netCDF4 as nc\n",
    "import ingestor.src as ing\n",
    "\n",
    "\n",
    "remote_data_path = \"/home4/msmendoza/projects/heat-waves-predictor/data/input/era5\"\n",
    "local_data_path = \"data/input/era5\"\n"
   ]
  },
  {
   "cell_type": "code",
   "execution_count": 4,
   "metadata": {},
   "outputs": [
    {
     "name": "stderr",
     "output_type": "stream",
     "text": [
      "downloading _2022.nc: 100%|██████████| 2.09M/2.09M [00:00<00:00, 2.78MB/s]\n"
     ]
    }
   ],
   "source": [
    "# get data from cluster (SSH)\n",
    "years = [\"_2022\"]\n",
    "\n",
    "ing.utils.get_remote_nc_files(\n",
    "    sftp_client=ing.config.sftp_client,\n",
    "    remote_data_path=remote_data_path,\n",
    "    years=years,\n",
    "    local_data_path=local_data_path,\n",
    ")\n"
   ]
  },
  {
   "cell_type": "code",
   "execution_count": 6,
   "metadata": {},
   "outputs": [],
   "source": [
    "# read file\n",
    "file_path = \"data/input/era5/_2022.nc\"\n",
    "ds = nc.Dataset(file_path, mode=\"r\")\n"
   ]
  },
  {
   "cell_type": "code",
   "execution_count": 9,
   "metadata": {},
   "outputs": [
    {
     "data": {
      "text/plain": [
       "<class 'netCDF4._netCDF4.Dataset'>\n",
       "root group (NETCDF3_64BIT_OFFSET data model, file format NETCDF3):\n",
       "    Conventions: CF-1.6\n",
       "    history: 2023-11-28 03:47:27 GMT by grib_to_netcdf-2.25.1: /opt/ecmwf/mars-client/bin/grib_to_netcdf.bin -S param -o /cache/data5/adaptor.mars.internal-1701143247.697722-1724-8-efc9930e-18b9-4b7d-9618-291ac4b3fe70.nc /cache/tmp/efc9930e-18b9-4b7d-9618-291ac4b3fe70-adaptor.mars.internal-1701143247.2429743-1724-13-tmp.grib\n",
       "    dimensions(sizes): longitude(1440), latitude(721), time(1)\n",
       "    variables(dimensions): float32 longitude(longitude), float32 latitude(latitude), int32 time(time), int16 t2m(time, latitude, longitude)\n",
       "    groups: "
      ]
     },
     "execution_count": 9,
     "metadata": {},
     "output_type": "execute_result"
    }
   ],
   "source": [
    "ds\n"
   ]
  }
 ],
 "metadata": {
  "kernelspec": {
   "display_name": ".venv",
   "language": "python",
   "name": "python3"
  },
  "language_info": {
   "codemirror_mode": {
    "name": "ipython",
    "version": 3
   },
   "file_extension": ".py",
   "mimetype": "text/x-python",
   "name": "python",
   "nbconvert_exporter": "python",
   "pygments_lexer": "ipython3",
   "version": "3.11.2"
  }
 },
 "nbformat": 4,
 "nbformat_minor": 2
}
