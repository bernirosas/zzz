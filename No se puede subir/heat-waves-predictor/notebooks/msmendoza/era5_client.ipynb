{
 "cells": [
  {
   "cell_type": "markdown",
   "metadata": {},
   "source": [
    "# ERA5 hourly data on single levels from 1940 to present\n",
    "\n",
    "- latitud degree (equator): 110.567 km\n",
    "- longitud degree (equator): 111.321 km\n",
    "\n",
    "**Data description**\n",
    "\n",
    "Entry | Description\n",
    "--- | ---\n",
    "Data type               | float32\n",
    "Projection              | Regular latitude-longitude grid\n",
    "Horizontal coverage     | Global\n",
    "Horizontal resolution   | **Reanalysis**: 0.25° x 0.25° (atmosphere), 0.5° x 0.5° (ocean waves) <br /> **Mean, spread and members**: 0.5° x 0.5° (atmosphere), 1° x 1° (ocean waves)\n",
    "Temporal coverage       | 1940 to present\n",
    "Temporal resolution     | hourly\n",
    "File format             | GRIB\n",
    "Update frequency        | daily\n",
    "\n",
    "2m temperature [ºK]: This parameter is the temperature of air at 2m above the surface of land, sea or inland waters. 2m temperature is calculated by interpolating between the lowest model level and the Earth's surface, taking account of the atmospheric conditions. This parameter has units of kelvin (K). Temperature measured in kelvin can be converted to degrees Celsius (°C) by subtracting 273.15.\n",
    "\n",
    "References:\n",
    "\n",
    "- [ERA5 hourly data on single levels from 1940 to present](https://cds.climate.copernicus.eu/cdsapp#!/dataset/reanalysis-era5-single-levels?tab=form)\n"
   ]
  },
  {
   "cell_type": "code",
   "execution_count": 1,
   "metadata": {},
   "outputs": [],
   "source": [
    "%load_ext autoreload\n",
    "%autoreload 2\n"
   ]
  },
  {
   "cell_type": "code",
   "execution_count": 2,
   "metadata": {},
   "outputs": [],
   "source": [
    "from os import chdir\n",
    "\n",
    "# change directory to the root of the project\n",
    "chdir(\"../..\")"
   ]
  },
  {
   "cell_type": "code",
   "execution_count": 3,
   "metadata": {},
   "outputs": [],
   "source": [
    "import netCDF4 as nc\n",
    "\n",
    "from datetime import date\n",
    "import ingestor.src as ing\n",
    "\n",
    "data_path = \"data/input\""
   ]
  },
  {
   "cell_type": "code",
   "execution_count": 4,
   "metadata": {},
   "outputs": [
    {
     "name": "stderr",
     "output_type": "stream",
     "text": [
      "2023-11-28 02:31:35,707 INFO Welcome to the CDS\n",
      "2023-11-28 02:31:35,708 INFO Sending request to https://cds.climate.copernicus.eu/api/v2/resources/reanalysis-era5-single-levels\n",
      "2023-11-28 02:31:36,006 INFO Request is queued\n",
      "2023-11-28 02:31:37,265 INFO Request is completed\n",
      "2023-11-28 02:31:37,266 INFO Downloading https://download-0016.copernicus-climate.eu/cache-compute-0016/cache/data9/adaptor.mars.internal-1701140558.9475658-11317-2-5178033b-02cd-4bd3-8ce4-be7de63d4ecc.nc to data/input/era5/2022.nc (16.9G)\n",
      "                                                        \r"
     ]
    },
    {
     "ename": "KeyboardInterrupt",
     "evalue": "",
     "output_type": "error",
     "traceback": [
      "\u001b[0;31m---------------------------------------------------------------------------\u001b[0m",
      "\u001b[0;31mKeyboardInterrupt\u001b[0m                         Traceback (most recent call last)",
      "\u001b[1;32m/Users/msmendoza/local_documents/university/master/msc-project/notebooks/msmendoza/era5_client.ipynb Cell 5\u001b[0m line \u001b[0;36m2\n\u001b[1;32m      <a href='vscode-notebook-cell:/Users/msmendoza/local_documents/university/master/msc-project/notebooks/msmendoza/era5_client.ipynb#W4sZmlsZQ%3D%3D?line=8'>9</a>\u001b[0m request \u001b[39m=\u001b[39m {\n\u001b[1;32m     <a href='vscode-notebook-cell:/Users/msmendoza/local_documents/university/master/msc-project/notebooks/msmendoza/era5_client.ipynb#W4sZmlsZQ%3D%3D?line=9'>10</a>\u001b[0m     \u001b[39m\"\u001b[39m\u001b[39mproduct_type\u001b[39m\u001b[39m\"\u001b[39m: \u001b[39m\"\u001b[39m\u001b[39mreanalysis\u001b[39m\u001b[39m\"\u001b[39m,\n\u001b[1;32m     <a href='vscode-notebook-cell:/Users/msmendoza/local_documents/university/master/msc-project/notebooks/msmendoza/era5_client.ipynb#W4sZmlsZQ%3D%3D?line=10'>11</a>\u001b[0m     \u001b[39m\"\u001b[39m\u001b[39mformat\u001b[39m\u001b[39m\"\u001b[39m: \u001b[39m\"\u001b[39m\u001b[39mnetcdf\u001b[39m\u001b[39m\"\u001b[39m,\n\u001b[0;32m   (...)\u001b[0m\n\u001b[1;32m     <a href='vscode-notebook-cell:/Users/msmendoza/local_documents/university/master/msc-project/notebooks/msmendoza/era5_client.ipynb#W4sZmlsZQ%3D%3D?line=15'>16</a>\u001b[0m     \u001b[39m\"\u001b[39m\u001b[39mtime\u001b[39m\u001b[39m\"\u001b[39m: time,\n\u001b[1;32m     <a href='vscode-notebook-cell:/Users/msmendoza/local_documents/university/master/msc-project/notebooks/msmendoza/era5_client.ipynb#W4sZmlsZQ%3D%3D?line=16'>17</a>\u001b[0m }\n\u001b[1;32m     <a href='vscode-notebook-cell:/Users/msmendoza/local_documents/university/master/msc-project/notebooks/msmendoza/era5_client.ipynb#W4sZmlsZQ%3D%3D?line=18'>19</a>\u001b[0m \u001b[39m# TODO: 17G? why in cluster it is 750M?\u001b[39;00m\n\u001b[0;32m---> <a href='vscode-notebook-cell:/Users/msmendoza/local_documents/university/master/msc-project/notebooks/msmendoza/era5_client.ipynb#W4sZmlsZQ%3D%3D?line=19'>20</a>\u001b[0m ing\u001b[39m.\u001b[39;49mera5\u001b[39m.\u001b[39;49mget_data(\n\u001b[1;32m     <a href='vscode-notebook-cell:/Users/msmendoza/local_documents/university/master/msc-project/notebooks/msmendoza/era5_client.ipynb#W4sZmlsZQ%3D%3D?line=20'>21</a>\u001b[0m     \u001b[39m\"\u001b[39;49m\u001b[39m2m_temperature\u001b[39;49m\u001b[39m\"\u001b[39;49m,\n\u001b[1;32m     <a href='vscode-notebook-cell:/Users/msmendoza/local_documents/university/master/msc-project/notebooks/msmendoza/era5_client.ipynb#W4sZmlsZQ%3D%3D?line=21'>22</a>\u001b[0m     \u001b[39m\"\u001b[39;49m\u001b[39mnetcdf\u001b[39;49m\u001b[39m\"\u001b[39;49m,\n\u001b[1;32m     <a href='vscode-notebook-cell:/Users/msmendoza/local_documents/university/master/msc-project/notebooks/msmendoza/era5_client.ipynb#W4sZmlsZQ%3D%3D?line=22'>23</a>\u001b[0m     \u001b[39mf\u001b[39;49m\u001b[39m\"\u001b[39;49m\u001b[39m{\u001b[39;49;00mdata_path\u001b[39m}\u001b[39;49;00m\u001b[39m/era5/\u001b[39;49m\u001b[39m{\u001b[39;49;00mreq_year\u001b[39m}\u001b[39;49;00m\u001b[39m.nc\u001b[39;49m\u001b[39m\"\u001b[39;49m,\n\u001b[1;32m     <a href='vscode-notebook-cell:/Users/msmendoza/local_documents/university/master/msc-project/notebooks/msmendoza/era5_client.ipynb#W4sZmlsZQ%3D%3D?line=23'>24</a>\u001b[0m     years\u001b[39m=\u001b[39;49m[req_year],\n\u001b[1;32m     <a href='vscode-notebook-cell:/Users/msmendoza/local_documents/university/master/msc-project/notebooks/msmendoza/era5_client.ipynb#W4sZmlsZQ%3D%3D?line=24'>25</a>\u001b[0m     months\u001b[39m=\u001b[39;49mmonths,\n\u001b[1;32m     <a href='vscode-notebook-cell:/Users/msmendoza/local_documents/university/master/msc-project/notebooks/msmendoza/era5_client.ipynb#W4sZmlsZQ%3D%3D?line=25'>26</a>\u001b[0m     days\u001b[39m=\u001b[39;49mdays,\n\u001b[1;32m     <a href='vscode-notebook-cell:/Users/msmendoza/local_documents/university/master/msc-project/notebooks/msmendoza/era5_client.ipynb#W4sZmlsZQ%3D%3D?line=26'>27</a>\u001b[0m     time\u001b[39m=\u001b[39;49mtime,\n\u001b[1;32m     <a href='vscode-notebook-cell:/Users/msmendoza/local_documents/university/master/msc-project/notebooks/msmendoza/era5_client.ipynb#W4sZmlsZQ%3D%3D?line=27'>28</a>\u001b[0m )\n",
      "File \u001b[0;32m~/local_documents/university/master/msc-project/hw_predictor/components/ingestor/src/era5/get_data.py:54\u001b[0m, in \u001b[0;36mget_data\u001b[0;34m(variables, format, output_path, years, months, days, time, area)\u001b[0m\n\u001b[1;32m     51\u001b[0m \u001b[39mif\u001b[39;00m area \u001b[39mis\u001b[39;00m \u001b[39mnot\u001b[39;00m \u001b[39mNone\u001b[39;00m:\n\u001b[1;32m     52\u001b[0m     request[\u001b[39m\"\u001b[39m\u001b[39marea\u001b[39m\u001b[39m\"\u001b[39m] \u001b[39m=\u001b[39m area\n\u001b[0;32m---> 54\u001b[0m cds_client\u001b[39m.\u001b[39;49mretrieve(\n\u001b[1;32m     55\u001b[0m     \u001b[39m\"\u001b[39;49m\u001b[39mreanalysis-era5-single-levels\u001b[39;49m\u001b[39m\"\u001b[39;49m,\n\u001b[1;32m     56\u001b[0m     request,\n\u001b[1;32m     57\u001b[0m     target\u001b[39m=\u001b[39;49moutput_path,\n\u001b[1;32m     58\u001b[0m )\n",
      "File \u001b[0;32m~/local_documents/university/master/msc-project/.venv/lib/python3.11/site-packages/cdsapi/api.py:366\u001b[0m, in \u001b[0;36mClient.retrieve\u001b[0;34m(self, name, request, target)\u001b[0m\n\u001b[1;32m    364\u001b[0m result \u001b[39m=\u001b[39m \u001b[39mself\u001b[39m\u001b[39m.\u001b[39m_api(\u001b[39m\"\u001b[39m\u001b[39m%s\u001b[39;00m\u001b[39m/resources/\u001b[39m\u001b[39m%s\u001b[39;00m\u001b[39m\"\u001b[39m \u001b[39m%\u001b[39m (\u001b[39mself\u001b[39m\u001b[39m.\u001b[39murl, name), request, \u001b[39m\"\u001b[39m\u001b[39mPOST\u001b[39m\u001b[39m\"\u001b[39m)\n\u001b[1;32m    365\u001b[0m \u001b[39mif\u001b[39;00m target \u001b[39mis\u001b[39;00m \u001b[39mnot\u001b[39;00m \u001b[39mNone\u001b[39;00m:\n\u001b[0;32m--> 366\u001b[0m     result\u001b[39m.\u001b[39;49mdownload(target)\n\u001b[1;32m    367\u001b[0m \u001b[39mreturn\u001b[39;00m result\n",
      "File \u001b[0;32m~/local_documents/university/master/msc-project/.venv/lib/python3.11/site-packages/cdsapi/api.py:171\u001b[0m, in \u001b[0;36mResult.download\u001b[0;34m(self, target)\u001b[0m\n\u001b[1;32m    170\u001b[0m \u001b[39mdef\u001b[39;00m \u001b[39mdownload\u001b[39m(\u001b[39mself\u001b[39m, target\u001b[39m=\u001b[39m\u001b[39mNone\u001b[39;00m):\n\u001b[0;32m--> 171\u001b[0m     \u001b[39mreturn\u001b[39;00m \u001b[39mself\u001b[39;49m\u001b[39m.\u001b[39;49m_download(\u001b[39mself\u001b[39;49m\u001b[39m.\u001b[39;49mlocation, \u001b[39mself\u001b[39;49m\u001b[39m.\u001b[39;49mcontent_length, target)\n",
      "File \u001b[0;32m~/local_documents/university/master/msc-project/.venv/lib/python3.11/site-packages/cdsapi/api.py:131\u001b[0m, in \u001b[0;36mResult._download\u001b[0;34m(self, url, size, target)\u001b[0m\n\u001b[1;32m    129\u001b[0m pbar\u001b[39m.\u001b[39mupdate(total)\n\u001b[1;32m    130\u001b[0m \u001b[39mwith\u001b[39;00m \u001b[39mopen\u001b[39m(target, mode) \u001b[39mas\u001b[39;00m f:\n\u001b[0;32m--> 131\u001b[0m     \u001b[39mfor\u001b[39;00m chunk \u001b[39min\u001b[39;00m r\u001b[39m.\u001b[39miter_content(chunk_size\u001b[39m=\u001b[39m\u001b[39m1024\u001b[39m):\n\u001b[1;32m    132\u001b[0m         \u001b[39mif\u001b[39;00m chunk:\n\u001b[1;32m    133\u001b[0m             f\u001b[39m.\u001b[39mwrite(chunk)\n",
      "File \u001b[0;32m~/local_documents/university/master/msc-project/.venv/lib/python3.11/site-packages/requests/models.py:816\u001b[0m, in \u001b[0;36mResponse.iter_content.<locals>.generate\u001b[0;34m()\u001b[0m\n\u001b[1;32m    814\u001b[0m \u001b[39mif\u001b[39;00m \u001b[39mhasattr\u001b[39m(\u001b[39mself\u001b[39m\u001b[39m.\u001b[39mraw, \u001b[39m\"\u001b[39m\u001b[39mstream\u001b[39m\u001b[39m\"\u001b[39m):\n\u001b[1;32m    815\u001b[0m     \u001b[39mtry\u001b[39;00m:\n\u001b[0;32m--> 816\u001b[0m         \u001b[39myield from\u001b[39;00m \u001b[39mself\u001b[39m\u001b[39m.\u001b[39mraw\u001b[39m.\u001b[39mstream(chunk_size, decode_content\u001b[39m=\u001b[39m\u001b[39mTrue\u001b[39;00m)\n\u001b[1;32m    817\u001b[0m     \u001b[39mexcept\u001b[39;00m ProtocolError \u001b[39mas\u001b[39;00m e:\n\u001b[1;32m    818\u001b[0m         \u001b[39mraise\u001b[39;00m ChunkedEncodingError(e)\n",
      "File \u001b[0;32m~/local_documents/university/master/msc-project/.venv/lib/python3.11/site-packages/urllib3/response.py:628\u001b[0m, in \u001b[0;36mHTTPResponse.stream\u001b[0;34m(self, amt, decode_content)\u001b[0m\n\u001b[1;32m    626\u001b[0m \u001b[39melse\u001b[39;00m:\n\u001b[1;32m    627\u001b[0m     \u001b[39mwhile\u001b[39;00m \u001b[39mnot\u001b[39;00m is_fp_closed(\u001b[39mself\u001b[39m\u001b[39m.\u001b[39m_fp):\n\u001b[0;32m--> 628\u001b[0m         data \u001b[39m=\u001b[39m \u001b[39mself\u001b[39;49m\u001b[39m.\u001b[39;49mread(amt\u001b[39m=\u001b[39;49mamt, decode_content\u001b[39m=\u001b[39;49mdecode_content)\n\u001b[1;32m    630\u001b[0m         \u001b[39mif\u001b[39;00m data:\n\u001b[1;32m    631\u001b[0m             \u001b[39myield\u001b[39;00m data\n",
      "File \u001b[0;32m~/local_documents/university/master/msc-project/.venv/lib/python3.11/site-packages/urllib3/response.py:567\u001b[0m, in \u001b[0;36mHTTPResponse.read\u001b[0;34m(self, amt, decode_content, cache_content)\u001b[0m\n\u001b[1;32m    564\u001b[0m fp_closed \u001b[39m=\u001b[39m \u001b[39mgetattr\u001b[39m(\u001b[39mself\u001b[39m\u001b[39m.\u001b[39m_fp, \u001b[39m\"\u001b[39m\u001b[39mclosed\u001b[39m\u001b[39m\"\u001b[39m, \u001b[39mFalse\u001b[39;00m)\n\u001b[1;32m    566\u001b[0m \u001b[39mwith\u001b[39;00m \u001b[39mself\u001b[39m\u001b[39m.\u001b[39m_error_catcher():\n\u001b[0;32m--> 567\u001b[0m     data \u001b[39m=\u001b[39m \u001b[39mself\u001b[39;49m\u001b[39m.\u001b[39;49m_fp_read(amt) \u001b[39mif\u001b[39;00m \u001b[39mnot\u001b[39;00m fp_closed \u001b[39melse\u001b[39;00m \u001b[39mb\u001b[39m\u001b[39m\"\u001b[39m\u001b[39m\"\u001b[39m\n\u001b[1;32m    568\u001b[0m     \u001b[39mif\u001b[39;00m amt \u001b[39mis\u001b[39;00m \u001b[39mNone\u001b[39;00m:\n\u001b[1;32m    569\u001b[0m         flush_decoder \u001b[39m=\u001b[39m \u001b[39mTrue\u001b[39;00m\n",
      "File \u001b[0;32m~/local_documents/university/master/msc-project/.venv/lib/python3.11/site-packages/urllib3/response.py:533\u001b[0m, in \u001b[0;36mHTTPResponse._fp_read\u001b[0;34m(self, amt)\u001b[0m\n\u001b[1;32m    530\u001b[0m     \u001b[39mreturn\u001b[39;00m buffer\u001b[39m.\u001b[39mgetvalue()\n\u001b[1;32m    531\u001b[0m \u001b[39melse\u001b[39;00m:\n\u001b[1;32m    532\u001b[0m     \u001b[39m# StringIO doesn't like amt=None\u001b[39;00m\n\u001b[0;32m--> 533\u001b[0m     \u001b[39mreturn\u001b[39;00m \u001b[39mself\u001b[39;49m\u001b[39m.\u001b[39;49m_fp\u001b[39m.\u001b[39;49mread(amt) \u001b[39mif\u001b[39;00m amt \u001b[39mis\u001b[39;00m \u001b[39mnot\u001b[39;00m \u001b[39mNone\u001b[39;00m \u001b[39melse\u001b[39;00m \u001b[39mself\u001b[39m\u001b[39m.\u001b[39m_fp\u001b[39m.\u001b[39mread()\n",
      "File \u001b[0;32m/Library/Frameworks/Python.framework/Versions/3.11/lib/python3.11/http/client.py:465\u001b[0m, in \u001b[0;36mHTTPResponse.read\u001b[0;34m(self, amt)\u001b[0m\n\u001b[1;32m    462\u001b[0m \u001b[39mif\u001b[39;00m \u001b[39mself\u001b[39m\u001b[39m.\u001b[39mlength \u001b[39mis\u001b[39;00m \u001b[39mnot\u001b[39;00m \u001b[39mNone\u001b[39;00m \u001b[39mand\u001b[39;00m amt \u001b[39m>\u001b[39m \u001b[39mself\u001b[39m\u001b[39m.\u001b[39mlength:\n\u001b[1;32m    463\u001b[0m     \u001b[39m# clip the read to the \"end of response\"\u001b[39;00m\n\u001b[1;32m    464\u001b[0m     amt \u001b[39m=\u001b[39m \u001b[39mself\u001b[39m\u001b[39m.\u001b[39mlength\n\u001b[0;32m--> 465\u001b[0m s \u001b[39m=\u001b[39m \u001b[39mself\u001b[39m\u001b[39m.\u001b[39mfp\u001b[39m.\u001b[39mread(amt)\n\u001b[1;32m    466\u001b[0m \u001b[39mif\u001b[39;00m \u001b[39mnot\u001b[39;00m s \u001b[39mand\u001b[39;00m amt:\n\u001b[1;32m    467\u001b[0m     \u001b[39m# Ideally, we would raise IncompleteRead if the content-length\u001b[39;00m\n\u001b[1;32m    468\u001b[0m     \u001b[39m# wasn't satisfied, but it might break compatibility.\u001b[39;00m\n\u001b[1;32m    469\u001b[0m     \u001b[39mself\u001b[39m\u001b[39m.\u001b[39m_close_conn()\n",
      "File \u001b[0;32m/Library/Frameworks/Python.framework/Versions/3.11/lib/python3.11/socket.py:706\u001b[0m, in \u001b[0;36mSocketIO.readinto\u001b[0;34m(self, b)\u001b[0m\n\u001b[1;32m    704\u001b[0m \u001b[39mwhile\u001b[39;00m \u001b[39mTrue\u001b[39;00m:\n\u001b[1;32m    705\u001b[0m     \u001b[39mtry\u001b[39;00m:\n\u001b[0;32m--> 706\u001b[0m         \u001b[39mreturn\u001b[39;00m \u001b[39mself\u001b[39;49m\u001b[39m.\u001b[39;49m_sock\u001b[39m.\u001b[39;49mrecv_into(b)\n\u001b[1;32m    707\u001b[0m     \u001b[39mexcept\u001b[39;00m timeout:\n\u001b[1;32m    708\u001b[0m         \u001b[39mself\u001b[39m\u001b[39m.\u001b[39m_timeout_occurred \u001b[39m=\u001b[39m \u001b[39mTrue\u001b[39;00m\n",
      "File \u001b[0;32m/Library/Frameworks/Python.framework/Versions/3.11/lib/python3.11/ssl.py:1278\u001b[0m, in \u001b[0;36mSSLSocket.recv_into\u001b[0;34m(self, buffer, nbytes, flags)\u001b[0m\n\u001b[1;32m   1274\u001b[0m     \u001b[39mif\u001b[39;00m flags \u001b[39m!=\u001b[39m \u001b[39m0\u001b[39m:\n\u001b[1;32m   1275\u001b[0m         \u001b[39mraise\u001b[39;00m \u001b[39mValueError\u001b[39;00m(\n\u001b[1;32m   1276\u001b[0m           \u001b[39m\"\u001b[39m\u001b[39mnon-zero flags not allowed in calls to recv_into() on \u001b[39m\u001b[39m%s\u001b[39;00m\u001b[39m\"\u001b[39m \u001b[39m%\u001b[39m\n\u001b[1;32m   1277\u001b[0m           \u001b[39mself\u001b[39m\u001b[39m.\u001b[39m\u001b[39m__class__\u001b[39m)\n\u001b[0;32m-> 1278\u001b[0m     \u001b[39mreturn\u001b[39;00m \u001b[39mself\u001b[39;49m\u001b[39m.\u001b[39;49mread(nbytes, buffer)\n\u001b[1;32m   1279\u001b[0m \u001b[39melse\u001b[39;00m:\n\u001b[1;32m   1280\u001b[0m     \u001b[39mreturn\u001b[39;00m \u001b[39msuper\u001b[39m()\u001b[39m.\u001b[39mrecv_into(buffer, nbytes, flags)\n",
      "File \u001b[0;32m/Library/Frameworks/Python.framework/Versions/3.11/lib/python3.11/ssl.py:1134\u001b[0m, in \u001b[0;36mSSLSocket.read\u001b[0;34m(self, len, buffer)\u001b[0m\n\u001b[1;32m   1132\u001b[0m \u001b[39mtry\u001b[39;00m:\n\u001b[1;32m   1133\u001b[0m     \u001b[39mif\u001b[39;00m buffer \u001b[39mis\u001b[39;00m \u001b[39mnot\u001b[39;00m \u001b[39mNone\u001b[39;00m:\n\u001b[0;32m-> 1134\u001b[0m         \u001b[39mreturn\u001b[39;00m \u001b[39mself\u001b[39;49m\u001b[39m.\u001b[39;49m_sslobj\u001b[39m.\u001b[39;49mread(\u001b[39mlen\u001b[39;49m, buffer)\n\u001b[1;32m   1135\u001b[0m     \u001b[39melse\u001b[39;00m:\n\u001b[1;32m   1136\u001b[0m         \u001b[39mreturn\u001b[39;00m \u001b[39mself\u001b[39m\u001b[39m.\u001b[39m_sslobj\u001b[39m.\u001b[39mread(\u001b[39mlen\u001b[39m)\n",
      "\u001b[0;31mKeyboardInterrupt\u001b[0m: "
     ]
    }
   ],
   "source": [
    "# get data from CDS\n",
    "current_year = date.today().year\n",
    "years = [str(y) for y in range(1940, current_year + 1)]\n",
    "months = [str(m).zfill(2) for m in range(1, 13)]\n",
    "days = [str(d).zfill(2) for d in range(1, 32)]\n",
    "time = [f\"{str(t).zfill(2)}:00\" for t in range(0, 24)]\n",
    "\n",
    "req_year = 2022\n",
    "request = {\n",
    "    \"product_type\": \"reanalysis\",\n",
    "    \"format\": \"netcdf\",\n",
    "    \"variable\": \"2m_temperature\",\n",
    "    \"year\": req_year,\n",
    "    \"month\": months,\n",
    "    \"day\": days,\n",
    "    \"time\": time,\n",
    "}\n",
    "\n",
    "# TODO: 17G? why is it in cluster 750M?\n",
    "ing.era5.get_data(\n",
    "    \"2m_temperature\",\n",
    "    \"netcdf\",\n",
    "    f\"{data_path}/era5/{req_year}.nc\",\n",
    "    years=[req_year],\n",
    "    months=months,\n",
    "    days=days,\n",
    "    time=time,\n",
    ")"
   ]
  }
 ],
 "metadata": {
  "kernelspec": {
   "display_name": ".venv",
   "language": "python",
   "name": "python3"
  },
  "language_info": {
   "codemirror_mode": {
    "name": "ipython",
    "version": 3
   },
   "file_extension": ".py",
   "mimetype": "text/x-python",
   "name": "python",
   "nbconvert_exporter": "python",
   "pygments_lexer": "ipython3",
   "version": "3.11.2"
  }
 },
 "nbformat": 4,
 "nbformat_minor": 2
}
