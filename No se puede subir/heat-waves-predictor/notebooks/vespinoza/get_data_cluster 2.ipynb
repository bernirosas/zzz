{
 "cells": [
  {
   "cell_type": "code",
   "execution_count": 1,
   "metadata": {},
   "outputs": [],
   "source": [
    "from netCDF4 import Dataset\n",
    "import numpy as np\n",
    "import matplotlib.pyplot as plt\n",
    "import pysftp"
   ]
  },
  {
   "cell_type": "code",
   "execution_count": 2,
   "metadata": {},
   "outputs": [],
   "source": [
    "def getDataSFTP(server_, user_, pass_, ruta_, data_):\n",
    "    with pysftp.Connection(server_, username=user_, password=pass_) as sftp:\n",
    "        sftp.chdir(ruta_)\n",
    "        with sftp.open(data_, 'rb') as remote_file:\n",
    "            netcdf_dataset = Dataset('dummy.nc', memory=remote_file.read())\n",
    "\n",
    "    return netcdf_dataset\n",
    "\n",
    "def getData02(dataset_name, user, passw, variable, year,day, month, hour):\n",
    "\n",
    "    path = f'/tmp0/ONR/data/02_intermediate/{variable}/{dataset_name}/{year}/{month}/{day}'\n",
    "    netcdf_dataset = getDataSFTP('cluster.ing.uc.cl', user, passw, path, f'{hour}.nc')\n",
    "    \n",
    "\n",
    "    return netcdf_dataset\n",
    "\n",
    "\n",
    "def plotData(data, type):\n",
    "    if type == 'ncep2':\n",
    "        lat = data.variables['lat'][:]\n",
    "        lon = data.variables['lon'][:]\n",
    "        air = data.variables['air'][:].reshape(1,94,192)\n",
    "        X, Y = np.meshgrid(lon, lat)\n",
    "\n",
    "        plt.figure(figsize=(8, 6))\n",
    "        scatter = plt.scatter(X.flatten(), Y.flatten(), c=air[0, :].flatten(), cmap='viridis', marker='o')\n",
    "        plt.colorbar(scatter, label='Var value')\n",
    "        plt.xlabel('Lon')\n",
    "        plt.ylabel('Lat')\n",
    "        plt.title('NCEP2 Visualization')\n",
    "        plt.tight_layout()\n",
    "        plt.show()\n",
    "    \n",
    "    if type == 'era5':\n",
    "        t2m = data['t2m'][:,:].reshape(1,721,1440)\n",
    "        lat = data['latitude'][:]\n",
    "        lon = data['longitude'][:]\n",
    "        X, Y = np.meshgrid(lon, lat)\n",
    "        \n",
    "        plt.figure(figsize=(8, 6))\n",
    "        scatter = plt.scatter(X.flatten(), Y.flatten(), c=t2m[:].flatten(), cmap='viridis', marker='o')\n",
    "        plt.colorbar(scatter, label='Var value')\n",
    "        plt.xlabel('Lon')\n",
    "        plt.ylabel('Lat')\n",
    "        plt.title('ERA5 Visualization')\n",
    "        plt.tight_layout()\n",
    "        plt.show()\n",
    "        \n",
    "    pass"
   ]
  },
  {
   "cell_type": "code",
   "execution_count": null,
   "metadata": {},
   "outputs": [],
   "source": [
    "server = 'cluster.ing.uc.cl'\n",
    "user = ''\n",
    "password = ''\n",
    "dataset_name = ''\n",
    "variable = ''\n",
    "year = ''\n",
    "day = ''\n",
    "month = ''\n",
    "hour = ''\n",
    "\n",
    "data = getData02(dataset_name, user, password, variable, year, day, month, hour)\n",
    "plotData(data, dataset_name)"
   ]
  }
 ],
 "metadata": {
  "kernelspec": {
   "display_name": "Python 3",
   "language": "python",
   "name": "python3"
  },
  "language_info": {
   "codemirror_mode": {
    "name": "ipython",
    "version": 3
   },
   "file_extension": ".py",
   "mimetype": "text/x-python",
   "name": "python",
   "nbconvert_exporter": "python",
   "pygments_lexer": "ipython3",
   "version": "3.9.13"
  }
 },
 "nbformat": 4,
 "nbformat_minor": 2
}
