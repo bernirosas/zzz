{
 "cells": [
  {
   "cell_type": "markdown",
   "metadata": {},
   "source": [
    "# Reporter Tutorial"
   ]
  },
  {
   "cell_type": "markdown",
   "metadata": {},
   "source": [
    "This notebook shows the usage of the `hw_predictor/components/preprocessor` package. Note that the package\n",
    "is designed to automatically work with Kubeflow Pipelines, but this will be an introduction to\n",
    "better understand how implemented functions can be imported for experimentation use in notebooks."
   ]
  },
  {
   "cell_type": "code",
   "execution_count": 1,
   "metadata": {},
   "outputs": [],
   "source": [
    "# to ensure developed modules are reloaded automatically and there's no need\n",
    "# to restart the kernel\n",
    "%load_ext autoreload\n",
    "%autoreload 2\n"
   ]
  },
  {
   "cell_type": "code",
   "execution_count": 2,
   "metadata": {},
   "outputs": [],
   "source": [
    "from os import chdir\n",
    "\n",
    "# change working directory to project's root path, this improves the interaction\n",
    "# with the data/ and hw_predictor/ folders\n",
    "chdir(\"../..\")"
   ]
  },
  {
   "cell_type": "markdown",
   "metadata": {},
   "source": [
    "# Imports"
   ]
  },
  {
   "cell_type": "code",
   "execution_count": 3,
   "metadata": {},
   "outputs": [],
   "source": [
    "import pandas as pd\n",
    "import hw_predictor.components.reporter.src as reporter"
   ]
  },
  {
   "cell_type": "markdown",
   "metadata": {},
   "source": [
    "# Parameters"
   ]
  },
  {
   "cell_type": "code",
   "execution_count": 4,
   "metadata": {},
   "outputs": [],
   "source": [
    "input_path = \"data/test/output/stations\"\n",
    "station_id = 330020\n",
    "year = 2022\n",
    "\n",
    "seasonal = False\n",
    "save = True\n",
    "output_path = \"data/test/output/stations\""
   ]
  },
  {
   "cell_type": "markdown",
   "metadata": {},
   "source": [
    "# Code"
   ]
  },
  {
   "cell_type": "markdown",
   "metadata": {},
   "source": [
    "Prior to code execution, have to ensure that needed project environment variables are set. This can\n",
    "be done with the following command assuming there's already an `.env` file in the project root directory.\n",
    "\n",
    "```bash\n",
    "export $(cat .env | xargs)\n",
    "```\n",
    "\n",
    "As of Thu 28/12/2023, the following environment variables are needed:\n",
    "\n",
    "```\n",
    "METEOCHILE_USER=\n",
    "METEOCHILE_API_KEY=\n",
    "CDS_API_URL=\n",
    "CDS_API_KEY=\n",
    "CLUSTER_HOST=\n",
    "CLUSTER_USER=\n",
    "CLUSTER_PASSWORD=\n",
    "```\n",
    "check with Mauro Mendoza (msmendoza@uc.cl) for the values of these variables."
   ]
  },
  {
   "cell_type": "markdown",
   "metadata": {},
   "source": [
    "# Reporter data"
   ]
  },
  {
   "cell_type": "code",
   "execution_count": 5,
   "metadata": {},
   "outputs": [],
   "source": [
    "if seasonal:\n",
    "    summer_stats, winter_stats = reporter.meteochile.compute_year_stats(\n",
    "        input_path,\n",
    "        station_id,\n",
    "        year,\n",
    "        seasonal=seasonal,\n",
    "        save=save,\n",
    "        output_path=output_path,\n",
    "    )\n",
    "    yearly_summer_stats = reporter.meteochile.compute_agg_year_stats(\n",
    "        summer_stats,\n",
    "        station_id,\n",
    "        season=\"summer\",\n",
    "        save=save,\n",
    "        output_path=output_path,\n",
    "    )\n",
    "    yearly_winter_stats = reporter.meteochile.compute_agg_year_stats(\n",
    "        winter_stats,\n",
    "        station_id,\n",
    "        season=\"winter\",\n",
    "        save=save,\n",
    "        output_path=output_path,\n",
    "    )\n",
    "else:\n",
    "    year_stats = reporter.meteochile.compute_year_stats(\n",
    "        input_path,\n",
    "        station_id,\n",
    "        year,\n",
    "        seasonal=seasonal,\n",
    "        save=save,\n",
    "        output_path=output_path,\n",
    "    )\n",
    "    reporter.meteochile.compute_agg_year_stats(\n",
    "        year_stats,\n",
    "        station_id,\n",
    "        season=\"\",\n",
    "        save=save,\n",
    "        output_path=output_path,\n",
    "    )"
   ]
  },
  {
   "cell_type": "code",
   "execution_count": 6,
   "metadata": {},
   "outputs": [
    {
     "data": {
      "text/html": [
       "<div>\n",
       "<style scoped>\n",
       "    .dataframe tbody tr th:only-of-type {\n",
       "        vertical-align: middle;\n",
       "    }\n",
       "\n",
       "    .dataframe tbody tr th {\n",
       "        vertical-align: top;\n",
       "    }\n",
       "\n",
       "    .dataframe thead th {\n",
       "        text-align: right;\n",
       "    }\n",
       "</style>\n",
       "<table border=\"1\" class=\"dataframe\">\n",
       "  <thead>\n",
       "    <tr style=\"text-align: right;\">\n",
       "      <th></th>\n",
       "      <th>start</th>\n",
       "      <th>end</th>\n",
       "      <th>duration</th>\n",
       "      <th>mean_temp</th>\n",
       "      <th>min_temp</th>\n",
       "      <th>max_temp</th>\n",
       "      <th>sum_intensity</th>\n",
       "    </tr>\n",
       "  </thead>\n",
       "  <tbody>\n",
       "    <tr>\n",
       "      <th>0</th>\n",
       "      <td>2023-08-26</td>\n",
       "      <td>2023-08-28</td>\n",
       "      <td>3</td>\n",
       "      <td>18.600000</td>\n",
       "      <td>17.3</td>\n",
       "      <td>20.0</td>\n",
       "      <td>3.80</td>\n",
       "    </tr>\n",
       "    <tr>\n",
       "      <th>1</th>\n",
       "      <td>2023-08-10</td>\n",
       "      <td>2023-08-13</td>\n",
       "      <td>4</td>\n",
       "      <td>19.375000</td>\n",
       "      <td>17.0</td>\n",
       "      <td>26.5</td>\n",
       "      <td>12.00</td>\n",
       "    </tr>\n",
       "    <tr>\n",
       "      <th>2</th>\n",
       "      <td>2023-03-29</td>\n",
       "      <td>2023-03-31</td>\n",
       "      <td>3</td>\n",
       "      <td>21.633333</td>\n",
       "      <td>21.0</td>\n",
       "      <td>22.5</td>\n",
       "      <td>4.05</td>\n",
       "    </tr>\n",
       "  </tbody>\n",
       "</table>\n",
       "</div>"
      ],
      "text/plain": [
       "       start        end  duration  mean_temp  min_temp  max_temp   \n",
       "0 2023-08-26 2023-08-28         3  18.600000      17.3      20.0  \\\n",
       "1 2023-08-10 2023-08-13         4  19.375000      17.0      26.5   \n",
       "2 2023-03-29 2023-03-31         3  21.633333      21.0      22.5   \n",
       "\n",
       "   sum_intensity  \n",
       "0           3.80  \n",
       "1          12.00  \n",
       "2           4.05  "
      ]
     },
     "execution_count": 6,
     "metadata": {},
     "output_type": "execute_result"
    }
   ],
   "source": [
    "pd.read_parquet(\"data/reporting/stations/330002/year_stats/default/2023_stats.parquet\")"
   ]
  }
 ],
 "metadata": {
  "kernelspec": {
   "display_name": ".venv",
   "language": "python",
   "name": "python3"
  },
  "language_info": {
   "codemirror_mode": {
    "name": "ipython",
    "version": 3
   },
   "file_extension": ".py",
   "mimetype": "text/x-python",
   "name": "python",
   "nbconvert_exporter": "python",
   "pygments_lexer": "ipython3",
   "version": "3.11.2"
  }
 },
 "nbformat": 4,
 "nbformat_minor": 2
}
